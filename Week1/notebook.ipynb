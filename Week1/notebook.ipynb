{
 "cells": [
  {
   "cell_type": "code",
   "execution_count": 2,
   "metadata": {},
   "outputs": [],
   "source": [
    "import openai\n",
    "from openai import OpenAI\n",
    "import os\n",
    "from dotenv import load_dotenv\n",
    "load_dotenv()"
   ]
  },
  {
   "cell_type": "code",
   "execution_count": 8,
   "metadata": {},
   "outputs": [],
   "source": [
    "api_key = os.getenv('OPENAI_API_KEY')\n",
    "client = OpenAI(api_key=api_key)"
   ]
  },
  {
   "cell_type": "code",
   "execution_count": 11,
   "metadata": {},
   "outputs": [
    {
     "data": {
      "text/plain": [
       "ChatCompletion(id='chatcmpl-9bgYxijWbOevMRIky05YYsB1JBdsn', choices=[Choice(finish_reason='stop', index=0, logprobs=None, message=ChatCompletionMessage(content=\"It's never too late to join a course! Whether it's online or in-person, many courses offer flexible enrollment options that can accommodate latecomers. Here are a few steps you can take to determine if you can still join:\\n\\n1. **Check the Course Website**: Look for enrollment deadlines and policies regarding late registration.\\n2. **Contact the Instructor**: Reach out to the course instructor or coordinator to explain your situation and inquire if late enrollment is possible.\\n3. **Review Course Materials**: If allowed to join late, ask for any materials or resources you need to catch up on what you've missed.\\n4. **Consider Online Options**: Some online courses offer rolling admissions or self-paced learning, making it easier to start at any time.\\n\\nDon't hesitate to ask, even if you're unsure!\", role='assistant', function_call=None, tool_calls=None))], created=1718768775, model='gpt-4o-2024-05-13', object='chat.completion', system_fingerprint='fp_f4e629d0a5', usage=CompletionUsage(completion_tokens=160, prompt_tokens=16, total_tokens=176))"
      ]
     },
     "execution_count": 11,
     "metadata": {},
     "output_type": "execute_result"
    }
   ],
   "source": [
    "response = client.chat.completions.create(\n",
    "    model='gpt-4o',\n",
    "    messages=[{\"role\":\"user\",\"content\":\"Is it too late to join the course?\"}]\n",
    ")\n",
    "\n",
    "response"
   ]
  },
  {
   "cell_type": "code",
   "execution_count": 13,
   "metadata": {},
   "outputs": [
    {
     "data": {
      "text/plain": [
       "\"It's never too late to join a course! Whether it's online or in-person, many courses offer flexible enrollment options that can accommodate latecomers. Here are a few steps you can take to determine if you can still join:\\n\\n1. **Check the Course Website**: Look for enrollment deadlines and policies regarding late registration.\\n2. **Contact the Instructor**: Reach out to the course instructor or coordinator to explain your situation and inquire if late enrollment is possible.\\n3. **Review Course Materials**: If allowed to join late, ask for any materials or resources you need to catch up on what you've missed.\\n4. **Consider Online Options**: Some online courses offer rolling admissions or self-paced learning, making it easier to start at any time.\\n\\nDon't hesitate to ask, even if you're unsure!\""
      ]
     },
     "execution_count": 13,
     "metadata": {},
     "output_type": "execute_result"
    }
   ],
   "source": [
    "response.choices[0].message.content"
   ]
  }
 ],
 "metadata": {
  "kernelspec": {
   "display_name": "venv",
   "language": "python",
   "name": "python3"
  },
  "language_info": {
   "codemirror_mode": {
    "name": "ipython",
    "version": 3
   },
   "file_extension": ".py",
   "mimetype": "text/x-python",
   "name": "python",
   "nbconvert_exporter": "python",
   "pygments_lexer": "ipython3",
   "version": "3.10.9"
  }
 },
 "nbformat": 4,
 "nbformat_minor": 2
}
